{
  "nbformat": 4,
  "nbformat_minor": 0,
  "metadata": {
    "colab": {
      "provenance": []
    },
    "kernelspec": {
      "name": "python3",
      "display_name": "Python 3"
    },
    "language_info": {
      "name": "python"
    }
  },
  "cells": [
    {
      "cell_type": "markdown",
      "source": [
        "# Step 1: Install and Import Required Libraries"
      ],
      "metadata": {
        "id": "tJNxF3XC3Arz"
      }
    },
    {
      "cell_type": "code",
      "execution_count": null,
      "metadata": {
        "id": "x4BMreE71ozc"
      },
      "outputs": [],
      "source": [
        "# Step 1.1: Install yfinance\n",
        "!pip install yfinance --quiet\n",
        "\n",
        "# Step 1.2: Import necessary libraries\n",
        "import yfinance as yf\n",
        "import pandas as pd\n",
        "import numpy as np\n",
        "import matplotlib.pyplot as plt\n"
      ]
    },
    {
      "cell_type": "markdown",
      "source": [
        "yfinance is the Python library that lets you download stock market data (like from Yahoo Finance).\n",
        "\n",
        "--quiet is just an optional flag to suppress the output from pip."
      ],
      "metadata": {
        "id": "zS47D5Tp1_0X"
      }
    },
    {
      "cell_type": "markdown",
      "source": [
        "#Step 2: Load Apple (AAPL) Stock Price Data"
      ],
      "metadata": {
        "id": "gyrcp3F83E92"
      }
    },
    {
      "cell_type": "code",
      "source": [
        "# Re-download the stock data with a wider date range\n",
        "df = yf.download('AAPL', start='2010-01-01', end='2024-12-31')\n",
        "\n",
        "# Check the full DataFrame\n",
        "print(\"Data shape:\", df.shape)\n",
        "df.head()\n",
        "\n"
      ],
      "metadata": {
        "colab": {
          "base_uri": "https://localhost:8080/",
          "height": 304
        },
        "id": "Vr7Tke7O13Zh",
        "outputId": "abf1d0e4-73f5-412d-94c2-c0c0eb180cc3"
      },
      "execution_count": null,
      "outputs": [
        {
          "output_type": "stream",
          "name": "stderr",
          "text": [
            "\r[*********************100%***********************]  1 of 1 completed"
          ]
        },
        {
          "output_type": "stream",
          "name": "stdout",
          "text": [
            "Data shape: (3773, 5)\n"
          ]
        },
        {
          "output_type": "stream",
          "name": "stderr",
          "text": [
            "\n"
          ]
        },
        {
          "output_type": "execute_result",
          "data": {
            "text/plain": [
              "Price          Close      High       Low      Open     Volume\n",
              "Ticker          AAPL      AAPL      AAPL      AAPL       AAPL\n",
              "Date                                                         \n",
              "2010-01-04  6.431896  6.446623  6.382908  6.414465  493729600\n",
              "2010-01-05  6.443018  6.479384  6.409056  6.449630  601904800\n",
              "2010-01-06  6.340531  6.468562  6.333919  6.443016  552160000\n",
              "2010-01-07  6.328810  6.371488  6.282827  6.363974  477131200\n",
              "2010-01-08  6.370885  6.371487  6.283128  6.320394  447610800"
            ],
            "text/html": [
              "\n",
              "  <div id=\"df-c8f9204b-76c1-49e6-a121-f3fe4fac2eb4\" class=\"colab-df-container\">\n",
              "    <div>\n",
              "<style scoped>\n",
              "    .dataframe tbody tr th:only-of-type {\n",
              "        vertical-align: middle;\n",
              "    }\n",
              "\n",
              "    .dataframe tbody tr th {\n",
              "        vertical-align: top;\n",
              "    }\n",
              "\n",
              "    .dataframe thead tr th {\n",
              "        text-align: left;\n",
              "    }\n",
              "\n",
              "    .dataframe thead tr:last-of-type th {\n",
              "        text-align: right;\n",
              "    }\n",
              "</style>\n",
              "<table border=\"1\" class=\"dataframe\">\n",
              "  <thead>\n",
              "    <tr>\n",
              "      <th>Price</th>\n",
              "      <th>Close</th>\n",
              "      <th>High</th>\n",
              "      <th>Low</th>\n",
              "      <th>Open</th>\n",
              "      <th>Volume</th>\n",
              "    </tr>\n",
              "    <tr>\n",
              "      <th>Ticker</th>\n",
              "      <th>AAPL</th>\n",
              "      <th>AAPL</th>\n",
              "      <th>AAPL</th>\n",
              "      <th>AAPL</th>\n",
              "      <th>AAPL</th>\n",
              "    </tr>\n",
              "    <tr>\n",
              "      <th>Date</th>\n",
              "      <th></th>\n",
              "      <th></th>\n",
              "      <th></th>\n",
              "      <th></th>\n",
              "      <th></th>\n",
              "    </tr>\n",
              "  </thead>\n",
              "  <tbody>\n",
              "    <tr>\n",
              "      <th>2010-01-04</th>\n",
              "      <td>6.431896</td>\n",
              "      <td>6.446623</td>\n",
              "      <td>6.382908</td>\n",
              "      <td>6.414465</td>\n",
              "      <td>493729600</td>\n",
              "    </tr>\n",
              "    <tr>\n",
              "      <th>2010-01-05</th>\n",
              "      <td>6.443018</td>\n",
              "      <td>6.479384</td>\n",
              "      <td>6.409056</td>\n",
              "      <td>6.449630</td>\n",
              "      <td>601904800</td>\n",
              "    </tr>\n",
              "    <tr>\n",
              "      <th>2010-01-06</th>\n",
              "      <td>6.340531</td>\n",
              "      <td>6.468562</td>\n",
              "      <td>6.333919</td>\n",
              "      <td>6.443016</td>\n",
              "      <td>552160000</td>\n",
              "    </tr>\n",
              "    <tr>\n",
              "      <th>2010-01-07</th>\n",
              "      <td>6.328810</td>\n",
              "      <td>6.371488</td>\n",
              "      <td>6.282827</td>\n",
              "      <td>6.363974</td>\n",
              "      <td>477131200</td>\n",
              "    </tr>\n",
              "    <tr>\n",
              "      <th>2010-01-08</th>\n",
              "      <td>6.370885</td>\n",
              "      <td>6.371487</td>\n",
              "      <td>6.283128</td>\n",
              "      <td>6.320394</td>\n",
              "      <td>447610800</td>\n",
              "    </tr>\n",
              "  </tbody>\n",
              "</table>\n",
              "</div>\n",
              "    <div class=\"colab-df-buttons\">\n",
              "\n",
              "  <div class=\"colab-df-container\">\n",
              "    <button class=\"colab-df-convert\" onclick=\"convertToInteractive('df-c8f9204b-76c1-49e6-a121-f3fe4fac2eb4')\"\n",
              "            title=\"Convert this dataframe to an interactive table.\"\n",
              "            style=\"display:none;\">\n",
              "\n",
              "  <svg xmlns=\"http://www.w3.org/2000/svg\" height=\"24px\" viewBox=\"0 -960 960 960\">\n",
              "    <path d=\"M120-120v-720h720v720H120Zm60-500h600v-160H180v160Zm220 220h160v-160H400v160Zm0 220h160v-160H400v160ZM180-400h160v-160H180v160Zm440 0h160v-160H620v160ZM180-180h160v-160H180v160Zm440 0h160v-160H620v160Z\"/>\n",
              "  </svg>\n",
              "    </button>\n",
              "\n",
              "  <style>\n",
              "    .colab-df-container {\n",
              "      display:flex;\n",
              "      gap: 12px;\n",
              "    }\n",
              "\n",
              "    .colab-df-convert {\n",
              "      background-color: #E8F0FE;\n",
              "      border: none;\n",
              "      border-radius: 50%;\n",
              "      cursor: pointer;\n",
              "      display: none;\n",
              "      fill: #1967D2;\n",
              "      height: 32px;\n",
              "      padding: 0 0 0 0;\n",
              "      width: 32px;\n",
              "    }\n",
              "\n",
              "    .colab-df-convert:hover {\n",
              "      background-color: #E2EBFA;\n",
              "      box-shadow: 0px 1px 2px rgba(60, 64, 67, 0.3), 0px 1px 3px 1px rgba(60, 64, 67, 0.15);\n",
              "      fill: #174EA6;\n",
              "    }\n",
              "\n",
              "    .colab-df-buttons div {\n",
              "      margin-bottom: 4px;\n",
              "    }\n",
              "\n",
              "    [theme=dark] .colab-df-convert {\n",
              "      background-color: #3B4455;\n",
              "      fill: #D2E3FC;\n",
              "    }\n",
              "\n",
              "    [theme=dark] .colab-df-convert:hover {\n",
              "      background-color: #434B5C;\n",
              "      box-shadow: 0px 1px 3px 1px rgba(0, 0, 0, 0.15);\n",
              "      filter: drop-shadow(0px 1px 2px rgba(0, 0, 0, 0.3));\n",
              "      fill: #FFFFFF;\n",
              "    }\n",
              "  </style>\n",
              "\n",
              "    <script>\n",
              "      const buttonEl =\n",
              "        document.querySelector('#df-c8f9204b-76c1-49e6-a121-f3fe4fac2eb4 button.colab-df-convert');\n",
              "      buttonEl.style.display =\n",
              "        google.colab.kernel.accessAllowed ? 'block' : 'none';\n",
              "\n",
              "      async function convertToInteractive(key) {\n",
              "        const element = document.querySelector('#df-c8f9204b-76c1-49e6-a121-f3fe4fac2eb4');\n",
              "        const dataTable =\n",
              "          await google.colab.kernel.invokeFunction('convertToInteractive',\n",
              "                                                    [key], {});\n",
              "        if (!dataTable) return;\n",
              "\n",
              "        const docLinkHtml = 'Like what you see? Visit the ' +\n",
              "          '<a target=\"_blank\" href=https://colab.research.google.com/notebooks/data_table.ipynb>data table notebook</a>'\n",
              "          + ' to learn more about interactive tables.';\n",
              "        element.innerHTML = '';\n",
              "        dataTable['output_type'] = 'display_data';\n",
              "        await google.colab.output.renderOutput(dataTable, element);\n",
              "        const docLink = document.createElement('div');\n",
              "        docLink.innerHTML = docLinkHtml;\n",
              "        element.appendChild(docLink);\n",
              "      }\n",
              "    </script>\n",
              "  </div>\n",
              "\n",
              "\n",
              "    <div id=\"df-7540a747-71c1-44b9-ad12-b114ba9a6f0a\">\n",
              "      <button class=\"colab-df-quickchart\" onclick=\"quickchart('df-7540a747-71c1-44b9-ad12-b114ba9a6f0a')\"\n",
              "                title=\"Suggest charts\"\n",
              "                style=\"display:none;\">\n",
              "\n",
              "<svg xmlns=\"http://www.w3.org/2000/svg\" height=\"24px\"viewBox=\"0 0 24 24\"\n",
              "     width=\"24px\">\n",
              "    <g>\n",
              "        <path d=\"M19 3H5c-1.1 0-2 .9-2 2v14c0 1.1.9 2 2 2h14c1.1 0 2-.9 2-2V5c0-1.1-.9-2-2-2zM9 17H7v-7h2v7zm4 0h-2V7h2v10zm4 0h-2v-4h2v4z\"/>\n",
              "    </g>\n",
              "</svg>\n",
              "      </button>\n",
              "\n",
              "<style>\n",
              "  .colab-df-quickchart {\n",
              "      --bg-color: #E8F0FE;\n",
              "      --fill-color: #1967D2;\n",
              "      --hover-bg-color: #E2EBFA;\n",
              "      --hover-fill-color: #174EA6;\n",
              "      --disabled-fill-color: #AAA;\n",
              "      --disabled-bg-color: #DDD;\n",
              "  }\n",
              "\n",
              "  [theme=dark] .colab-df-quickchart {\n",
              "      --bg-color: #3B4455;\n",
              "      --fill-color: #D2E3FC;\n",
              "      --hover-bg-color: #434B5C;\n",
              "      --hover-fill-color: #FFFFFF;\n",
              "      --disabled-bg-color: #3B4455;\n",
              "      --disabled-fill-color: #666;\n",
              "  }\n",
              "\n",
              "  .colab-df-quickchart {\n",
              "    background-color: var(--bg-color);\n",
              "    border: none;\n",
              "    border-radius: 50%;\n",
              "    cursor: pointer;\n",
              "    display: none;\n",
              "    fill: var(--fill-color);\n",
              "    height: 32px;\n",
              "    padding: 0;\n",
              "    width: 32px;\n",
              "  }\n",
              "\n",
              "  .colab-df-quickchart:hover {\n",
              "    background-color: var(--hover-bg-color);\n",
              "    box-shadow: 0 1px 2px rgba(60, 64, 67, 0.3), 0 1px 3px 1px rgba(60, 64, 67, 0.15);\n",
              "    fill: var(--button-hover-fill-color);\n",
              "  }\n",
              "\n",
              "  .colab-df-quickchart-complete:disabled,\n",
              "  .colab-df-quickchart-complete:disabled:hover {\n",
              "    background-color: var(--disabled-bg-color);\n",
              "    fill: var(--disabled-fill-color);\n",
              "    box-shadow: none;\n",
              "  }\n",
              "\n",
              "  .colab-df-spinner {\n",
              "    border: 2px solid var(--fill-color);\n",
              "    border-color: transparent;\n",
              "    border-bottom-color: var(--fill-color);\n",
              "    animation:\n",
              "      spin 1s steps(1) infinite;\n",
              "  }\n",
              "\n",
              "  @keyframes spin {\n",
              "    0% {\n",
              "      border-color: transparent;\n",
              "      border-bottom-color: var(--fill-color);\n",
              "      border-left-color: var(--fill-color);\n",
              "    }\n",
              "    20% {\n",
              "      border-color: transparent;\n",
              "      border-left-color: var(--fill-color);\n",
              "      border-top-color: var(--fill-color);\n",
              "    }\n",
              "    30% {\n",
              "      border-color: transparent;\n",
              "      border-left-color: var(--fill-color);\n",
              "      border-top-color: var(--fill-color);\n",
              "      border-right-color: var(--fill-color);\n",
              "    }\n",
              "    40% {\n",
              "      border-color: transparent;\n",
              "      border-right-color: var(--fill-color);\n",
              "      border-top-color: var(--fill-color);\n",
              "    }\n",
              "    60% {\n",
              "      border-color: transparent;\n",
              "      border-right-color: var(--fill-color);\n",
              "    }\n",
              "    80% {\n",
              "      border-color: transparent;\n",
              "      border-right-color: var(--fill-color);\n",
              "      border-bottom-color: var(--fill-color);\n",
              "    }\n",
              "    90% {\n",
              "      border-color: transparent;\n",
              "      border-bottom-color: var(--fill-color);\n",
              "    }\n",
              "  }\n",
              "</style>\n",
              "\n",
              "      <script>\n",
              "        async function quickchart(key) {\n",
              "          const quickchartButtonEl =\n",
              "            document.querySelector('#' + key + ' button');\n",
              "          quickchartButtonEl.disabled = true;  // To prevent multiple clicks.\n",
              "          quickchartButtonEl.classList.add('colab-df-spinner');\n",
              "          try {\n",
              "            const charts = await google.colab.kernel.invokeFunction(\n",
              "                'suggestCharts', [key], {});\n",
              "          } catch (error) {\n",
              "            console.error('Error during call to suggestCharts:', error);\n",
              "          }\n",
              "          quickchartButtonEl.classList.remove('colab-df-spinner');\n",
              "          quickchartButtonEl.classList.add('colab-df-quickchart-complete');\n",
              "        }\n",
              "        (() => {\n",
              "          let quickchartButtonEl =\n",
              "            document.querySelector('#df-7540a747-71c1-44b9-ad12-b114ba9a6f0a button');\n",
              "          quickchartButtonEl.style.display =\n",
              "            google.colab.kernel.accessAllowed ? 'block' : 'none';\n",
              "        })();\n",
              "      </script>\n",
              "    </div>\n",
              "\n",
              "    </div>\n",
              "  </div>\n"
            ],
            "application/vnd.google.colaboratory.intrinsic+json": {
              "type": "dataframe",
              "variable_name": "df",
              "summary": "{\n  \"name\": \"df\",\n  \"rows\": 3773,\n  \"fields\": [\n    {\n      \"column\": [\n        \"Date\",\n        \"\"\n      ],\n      \"properties\": {\n        \"dtype\": \"date\",\n        \"min\": \"2010-01-04 00:00:00\",\n        \"max\": \"2024-12-30 00:00:00\",\n        \"num_unique_values\": 3773,\n        \"samples\": [\n          \"2010-05-18 00:00:00\",\n          \"2024-12-26 00:00:00\",\n          \"2020-07-07 00:00:00\"\n        ],\n        \"semantic_type\": \"\",\n        \"description\": \"\"\n      }\n    },\n    {\n      \"column\": [\n        \"Close\",\n        \"AAPL\"\n      ],\n      \"properties\": {\n        \"dtype\": \"number\",\n        \"std\": 65.4580967826951,\n        \"min\": 5.771907329559326,\n        \"max\": 258.39666748046875,\n        \"num_unique_values\": 3721,\n        \"samples\": [\n          15.542657852172852,\n          189.25405883789062,\n          32.81475830078125\n        ],\n        \"semantic_type\": \"\",\n        \"description\": \"\"\n      }\n    },\n    {\n      \"column\": [\n        \"High\",\n        \"AAPL\"\n      ],\n      \"properties\": {\n        \"dtype\": \"number\",\n        \"std\": 66.06608884539548,\n        \"min\": 5.890621650012619,\n        \"max\": 259.47408555117545,\n        \"num_unique_values\": 3773,\n        \"samples\": [\n          7.770507374806447,\n          259.47408555117545,\n          92.0111893796949\n        ],\n        \"semantic_type\": \"\",\n        \"description\": \"\"\n      }\n    },\n    {\n      \"column\": [\n        \"Low\",\n        \"AAPL\"\n      ],\n      \"properties\": {\n        \"dtype\": \"number\",\n        \"std\": 64.75981793963297,\n        \"min\": 5.717809140329178,\n        \"max\": 257.0100282923795,\n        \"num_unique_values\": 3773,\n        \"samples\": [\n          7.521357767150495,\n          257.0100282923795,\n          90.45831301928035\n        ],\n        \"semantic_type\": \"\",\n        \"description\": \"\"\n      }\n    },\n    {\n      \"column\": [\n        \"Open\",\n        \"AAPL\"\n      ],\n      \"properties\": {\n        \"dtype\": \"number\",\n        \"std\": 65.37773057189553,\n        \"min\": 5.781524843293855,\n        \"max\": 257.56867823862046,\n        \"num_unique_values\": 3773,\n        \"samples\": [\n          7.723322441830445,\n          257.56867823862046,\n          91.2311060890885\n        ],\n        \"semantic_type\": \"\",\n        \"description\": \"\"\n      }\n    },\n    {\n      \"column\": [\n        \"Volume\",\n        \"AAPL\"\n      ],\n      \"properties\": {\n        \"dtype\": \"number\",\n        \"std\": 218079437,\n        \"min\": 23234700,\n        \"max\": 1880998000,\n        \"num_unique_values\": 3764,\n        \"samples\": [\n          108806800,\n          69463600,\n          657650000\n        ],\n        \"semantic_type\": \"\",\n        \"description\": \"\"\n      }\n    }\n  ]\n}"
            }
          },
          "metadata": {},
          "execution_count": 11
        }
      ]
    },
    {
      "cell_type": "code",
      "source": [
        "# Step 1: Print the first few rows of the DataFrame\n",
        "print(df.head())\n",
        "\n",
        "# Step 2: Print column names to verify\n",
        "print(\"Column names:\", df.columns)\n"
      ],
      "metadata": {
        "colab": {
          "base_uri": "https://localhost:8080/"
        },
        "id": "QRI4CwWs2Q1q",
        "outputId": "276e888d-632f-4ced-b833-7ff886bc5057"
      },
      "execution_count": null,
      "outputs": [
        {
          "output_type": "stream",
          "name": "stdout",
          "text": [
            "Price          Close      High       Low      Open     Volume\n",
            "Ticker          AAPL      AAPL      AAPL      AAPL       AAPL\n",
            "Date                                                         \n",
            "2010-01-04  6.431896  6.446623  6.382908  6.414465  493729600\n",
            "2010-01-05  6.443018  6.479384  6.409056  6.449630  601904800\n",
            "2010-01-06  6.340531  6.468562  6.333919  6.443016  552160000\n",
            "2010-01-07  6.328810  6.371488  6.282827  6.363974  477131200\n",
            "2010-01-08  6.370885  6.371487  6.283128  6.320394  447610800\n",
            "Column names: MultiIndex([( 'Close', 'AAPL'),\n",
            "            (  'High', 'AAPL'),\n",
            "            (   'Low', 'AAPL'),\n",
            "            (  'Open', 'AAPL'),\n",
            "            ('Volume', 'AAPL')],\n",
            "           names=['Price', 'Ticker'])\n"
          ]
        }
      ]
    },
    {
      "cell_type": "markdown",
      "source": [
        "#Step 3.1: Extract the 'Close' Prices"
      ],
      "metadata": {
        "id": "sKJ9jCqb3N4j"
      }
    },
    {
      "cell_type": "code",
      "source": [
        "# Flatten the MultiIndex columns\n",
        "df.columns = df.columns.get_level_values(0)\n",
        "\n",
        "# Now extract the 'Close' column\n",
        "data = df[['Close']]\n",
        "dataset = data.values\n",
        "\n",
        "# Check the shape and first 5 values\n",
        "print(\"Shape of data:\", dataset.shape)\n",
        "print(\"First 5 closing prices:\\n\", dataset[:5])\n"
      ],
      "metadata": {
        "colab": {
          "base_uri": "https://localhost:8080/"
        },
        "id": "wl-LGXKn2g7q",
        "outputId": "ef1059a9-3a58-46af-fbfd-ca90a90e29bf"
      },
      "execution_count": null,
      "outputs": [
        {
          "output_type": "stream",
          "name": "stdout",
          "text": [
            "Shape of data: (3773, 1)\n",
            "First 5 closing prices:\n",
            " [[6.43189621]\n",
            " [6.44301796]\n",
            " [6.34053087]\n",
            " [6.32881021]\n",
            " [6.37088537]]\n"
          ]
        }
      ]
    },
    {
      "cell_type": "markdown",
      "source": [
        "#Step 3.1: Normalize the Data"
      ],
      "metadata": {
        "id": "5YvlNhO2249q"
      }
    },
    {
      "cell_type": "markdown",
      "source": [
        "LSTM models perform better when the input data is scaled (normalized) to a range like [0, 1].\n"
      ],
      "metadata": {
        "id": "NJI_62NX23xr"
      }
    },
    {
      "cell_type": "code",
      "source": [
        "from sklearn.preprocessing import MinMaxScaler\n",
        "\n",
        "# Initialize the scaler to scale data between 0 and 1\n",
        "scaler = MinMaxScaler(feature_range=(0, 1))\n",
        "\n",
        "# Fit and transform the dataset\n",
        "scaled_data = scaler.fit_transform(dataset)\n",
        "\n",
        "# Check first 5 scaled values\n",
        "print(\"First 5 scaled values:\\n\", scaled_data[:5])\n"
      ],
      "metadata": {
        "colab": {
          "base_uri": "https://localhost:8080/"
        },
        "id": "dL5uS15G2pp_",
        "outputId": "c0d46b03-dd76-4dfb-d116-4cb829fda7a2"
      },
      "execution_count": null,
      "outputs": [
        {
          "output_type": "stream",
          "name": "stdout",
          "text": [
            "First 5 scaled values:\n",
            " [[0.00261253]\n",
            " [0.00265655]\n",
            " [0.00225086]\n",
            " [0.00220447]\n",
            " [0.00237102]]\n"
          ]
        }
      ]
    },
    {
      "cell_type": "markdown",
      "source": [
        "#Step 3.3: Create Sequences for LSTM"
      ],
      "metadata": {
        "id": "nnIWbcEm3TFG"
      }
    },
    {
      "cell_type": "code",
      "source": [
        "'''LSTM works on sequences.So we'll use a sliding window approach:\n",
        "\n",
        "For every 60 past days' closing prices, we’ll predict the 61st day's price.\n",
        "\n",
        "This gives us:\n",
        "\n",
        "X_train → shape (samples, 60, 1)\n",
        "\n",
        "y_train → shape (samples, 1)\n",
        "\n",
        "'''"
      ],
      "metadata": {
        "colab": {
          "base_uri": "https://localhost:8080/",
          "height": 52
        },
        "id": "DFy5HtKG2ulk",
        "outputId": "7e4403eb-3212-4133-bd42-755a23891266"
      },
      "execution_count": null,
      "outputs": [
        {
          "output_type": "execute_result",
          "data": {
            "text/plain": [
              "\"LSTM works on sequences.So we'll use a sliding window approach:\\n\\nFor every 60 past days' closing prices, we’ll predict the 61st day's price.\\n\\nThis gives us:\\n\\nX_train → shape (samples, 60, 1)\\n\\ny_train → shape (samples, 1)\\n\\n\""
            ],
            "application/vnd.google.colaboratory.intrinsic+json": {
              "type": "string"
            }
          },
          "metadata": {},
          "execution_count": 17
        }
      ]
    },
    {
      "cell_type": "code",
      "source": [
        "# Training data length (we'll use 80% of the data for training)\n",
        "training_data_len = int(len(scaled_data) * 0.8)\n",
        "\n",
        "# Split the scaled data\n",
        "train_data = scaled_data[:training_data_len]\n",
        "\n",
        "# Create empty lists\n",
        "X_train = []\n",
        "y_train = []\n",
        "\n",
        "# Use past 60 days to predict the next day\n",
        "for i in range(60, len(train_data)):\n",
        "    X_train.append(train_data[i-60:i, 0])   # 60 values\n",
        "    y_train.append(train_data[i, 0])        # 61st value\n",
        "\n",
        "# Convert to numpy arrays\n",
        "X_train, y_train = np.array(X_train), np.array(y_train)\n",
        "\n",
        "# Reshape X_train to (samples, timesteps, features)\n",
        "X_train = np.reshape(X_train, (X_train.shape[0], X_train.shape[1], 1))\n",
        "\n",
        "# Output the shape\n",
        "print(\"X_train shape:\", X_train.shape)\n",
        "print(\"y_train shape:\", y_train.shape)\n"
      ],
      "metadata": {
        "colab": {
          "base_uri": "https://localhost:8080/"
        },
        "id": "eA_tUMIA4HMq",
        "outputId": "d3a23005-707c-4859-dc27-ea73f13b4766"
      },
      "execution_count": null,
      "outputs": [
        {
          "output_type": "stream",
          "name": "stdout",
          "text": [
            "X_train shape: (2958, 60, 1)\n",
            "y_train shape: (2958,)\n"
          ]
        }
      ]
    },
    {
      "cell_type": "markdown",
      "source": [
        "X_train: 2,958 samples, each with 60 timesteps and 1 feature (closing price)\n",
        "\n",
        "y_train: 2,958 target values\n",
        "\n"
      ],
      "metadata": {
        "id": "PDc1bdWN4S--"
      }
    },
    {
      "cell_type": "markdown",
      "source": [
        "#Step 4: Build the LSTM Model"
      ],
      "metadata": {
        "id": "TzBJE5Xr4Vwd"
      }
    },
    {
      "cell_type": "markdown",
      "source": [
        "We’ll use Keras to build a sequential LSTM model with:\n",
        "\n",
        "2 LSTM layers\n",
        "\n",
        "1 Dense layer for output\n",
        "\n",
        "Dropout to prevent overfitting"
      ],
      "metadata": {
        "id": "jrY7swox4YzP"
      }
    },
    {
      "cell_type": "code",
      "source": [
        "from tensorflow.keras.models import Sequential\n",
        "from tensorflow.keras.layers import LSTM, Dense, Dropout\n",
        "\n",
        "# Build the model\n",
        "model = Sequential()\n",
        "\n",
        "# First LSTM layer\n",
        "model.add(LSTM(units=50, return_sequences=True, input_shape=(X_train.shape[1], 1)))\n",
        "model.add(Dropout(0.2))\n",
        "\n",
        "# Second LSTM layer\n",
        "model.add(LSTM(units=50, return_sequences=False))\n",
        "model.add(Dropout(0.2))\n",
        "\n",
        "# Output layer\n",
        "model.add(Dense(units=1))  # Predicting the next closing price\n",
        "\n",
        "# Compile the model\n",
        "model.compile(optimizer='adam', loss='mean_squared_error')\n"
      ],
      "metadata": {
        "colab": {
          "base_uri": "https://localhost:8080/"
        },
        "id": "pfjf73Vv4Maf",
        "outputId": "1ad60550-678f-44a3-9b08-0040c25a9db4"
      },
      "execution_count": null,
      "outputs": [
        {
          "output_type": "stream",
          "name": "stderr",
          "text": [
            "/usr/local/lib/python3.11/dist-packages/keras/src/layers/rnn/rnn.py:200: UserWarning: Do not pass an `input_shape`/`input_dim` argument to a layer. When using Sequential models, prefer using an `Input(shape)` object as the first layer in the model instead.\n",
            "  super().__init__(**kwargs)\n"
          ]
        }
      ]
    },
    {
      "cell_type": "markdown",
      "source": [
        "#Step 5: Train the LSTM Model"
      ],
      "metadata": {
        "id": "F2cQakaI4hS4"
      }
    },
    {
      "cell_type": "markdown",
      "source": [
        "batch_size=32: Small batches improve gradient updates\n",
        "\n",
        "epochs=10: Enough to start learning patterns (you can later try 30+ for better results)\n",
        "\n",
        "validation_split=0.1: Uses 10% of training data to monitor overfitting"
      ],
      "metadata": {
        "id": "EoBs0mKi4mVq"
      }
    },
    {
      "cell_type": "code",
      "source": [
        "# Train the model\n",
        "history = model.fit(\n",
        "    X_train, y_train,\n",
        "    batch_size=32,\n",
        "    epochs=50,         # You can increase this later (e.g., 20 or 30)\n",
        "    validation_split=0.1,\n",
        "    verbose=1\n",
        ")\n"
      ],
      "metadata": {
        "colab": {
          "base_uri": "https://localhost:8080/"
        },
        "id": "Hb0dY1fm4bWA",
        "outputId": "cd4d6253-631a-48d3-efe3-0c4f1fe6ae55"
      },
      "execution_count": null,
      "outputs": [
        {
          "output_type": "stream",
          "name": "stdout",
          "text": [
            "Epoch 1/50\n",
            "\u001b[1m84/84\u001b[0m \u001b[32m━━━━━━━━━━━━━━━━━━━━\u001b[0m\u001b[37m\u001b[0m \u001b[1m6s\u001b[0m 69ms/step - loss: 1.5796e-04 - val_loss: 0.0016\n",
            "Epoch 2/50\n",
            "\u001b[1m84/84\u001b[0m \u001b[32m━━━━━━━━━━━━━━━━━━━━\u001b[0m\u001b[37m\u001b[0m \u001b[1m9s\u001b[0m 57ms/step - loss: 1.6090e-04 - val_loss: 0.0011\n",
            "Epoch 3/50\n",
            "\u001b[1m84/84\u001b[0m \u001b[32m━━━━━━━━━━━━━━━━━━━━\u001b[0m\u001b[37m\u001b[0m \u001b[1m6s\u001b[0m 72ms/step - loss: 1.2364e-04 - val_loss: 0.0026\n",
            "Epoch 4/50\n",
            "\u001b[1m84/84\u001b[0m \u001b[32m━━━━━━━━━━━━━━━━━━━━\u001b[0m\u001b[37m\u001b[0m \u001b[1m5s\u001b[0m 57ms/step - loss: 1.6017e-04 - val_loss: 7.0430e-04\n",
            "Epoch 5/50\n",
            "\u001b[1m84/84\u001b[0m \u001b[32m━━━━━━━━━━━━━━━━━━━━\u001b[0m\u001b[37m\u001b[0m \u001b[1m6s\u001b[0m 77ms/step - loss: 1.4614e-04 - val_loss: 4.6673e-04\n",
            "Epoch 6/50\n",
            "\u001b[1m84/84\u001b[0m \u001b[32m━━━━━━━━━━━━━━━━━━━━\u001b[0m\u001b[37m\u001b[0m \u001b[1m9s\u001b[0m 56ms/step - loss: 1.5078e-04 - val_loss: 4.3990e-04\n",
            "Epoch 7/50\n",
            "\u001b[1m84/84\u001b[0m \u001b[32m━━━━━━━━━━━━━━━━━━━━\u001b[0m\u001b[37m\u001b[0m \u001b[1m6s\u001b[0m 74ms/step - loss: 1.2749e-04 - val_loss: 4.4672e-04\n",
            "Epoch 8/50\n",
            "\u001b[1m84/84\u001b[0m \u001b[32m━━━━━━━━━━━━━━━━━━━━\u001b[0m\u001b[37m\u001b[0m \u001b[1m5s\u001b[0m 55ms/step - loss: 1.1018e-04 - val_loss: 0.0010\n",
            "Epoch 9/50\n",
            "\u001b[1m84/84\u001b[0m \u001b[32m━━━━━━━━━━━━━━━━━━━━\u001b[0m\u001b[37m\u001b[0m \u001b[1m6s\u001b[0m 69ms/step - loss: 1.4647e-04 - val_loss: 2.5043e-04\n",
            "Epoch 10/50\n",
            "\u001b[1m84/84\u001b[0m \u001b[32m━━━━━━━━━━━━━━━━━━━━\u001b[0m\u001b[37m\u001b[0m \u001b[1m5s\u001b[0m 56ms/step - loss: 1.2962e-04 - val_loss: 7.0359e-04\n",
            "Epoch 11/50\n",
            "\u001b[1m84/84\u001b[0m \u001b[32m━━━━━━━━━━━━━━━━━━━━\u001b[0m\u001b[37m\u001b[0m \u001b[1m5s\u001b[0m 57ms/step - loss: 1.7311e-04 - val_loss: 2.3162e-04\n",
            "Epoch 12/50\n",
            "\u001b[1m84/84\u001b[0m \u001b[32m━━━━━━━━━━━━━━━━━━━━\u001b[0m\u001b[37m\u001b[0m \u001b[1m6s\u001b[0m 66ms/step - loss: 1.1221e-04 - val_loss: 2.2619e-04\n",
            "Epoch 13/50\n",
            "\u001b[1m84/84\u001b[0m \u001b[32m━━━━━━━━━━━━━━━━━━━━\u001b[0m\u001b[37m\u001b[0m \u001b[1m10s\u001b[0m 69ms/step - loss: 1.0501e-04 - val_loss: 4.0991e-04\n",
            "Epoch 14/50\n",
            "\u001b[1m84/84\u001b[0m \u001b[32m━━━━━━━━━━━━━━━━━━━━\u001b[0m\u001b[37m\u001b[0m \u001b[1m9s\u001b[0m 57ms/step - loss: 1.0168e-04 - val_loss: 4.4179e-04\n",
            "Epoch 15/50\n",
            "\u001b[1m84/84\u001b[0m \u001b[32m━━━━━━━━━━━━━━━━━━━━\u001b[0m\u001b[37m\u001b[0m \u001b[1m6s\u001b[0m 66ms/step - loss: 1.0458e-04 - val_loss: 4.4460e-04\n",
            "Epoch 16/50\n",
            "\u001b[1m84/84\u001b[0m \u001b[32m━━━━━━━━━━━━━━━━━━━━\u001b[0m\u001b[37m\u001b[0m \u001b[1m5s\u001b[0m 54ms/step - loss: 8.6418e-05 - val_loss: 5.8376e-04\n",
            "Epoch 17/50\n",
            "\u001b[1m84/84\u001b[0m \u001b[32m━━━━━━━━━━━━━━━━━━━━\u001b[0m\u001b[37m\u001b[0m \u001b[1m6s\u001b[0m 67ms/step - loss: 8.2232e-05 - val_loss: 0.0013\n",
            "Epoch 18/50\n",
            "\u001b[1m84/84\u001b[0m \u001b[32m━━━━━━━━━━━━━━━━━━━━\u001b[0m\u001b[37m\u001b[0m \u001b[1m9s\u001b[0m 54ms/step - loss: 1.4448e-04 - val_loss: 7.9424e-04\n",
            "Epoch 19/50\n",
            "\u001b[1m84/84\u001b[0m \u001b[32m━━━━━━━━━━━━━━━━━━━━\u001b[0m\u001b[37m\u001b[0m \u001b[1m6s\u001b[0m 62ms/step - loss: 8.8566e-05 - val_loss: 2.0508e-04\n",
            "Epoch 20/50\n",
            "\u001b[1m84/84\u001b[0m \u001b[32m━━━━━━━━━━━━━━━━━━━━\u001b[0m\u001b[37m\u001b[0m \u001b[1m5s\u001b[0m 54ms/step - loss: 8.8737e-05 - val_loss: 2.1776e-04\n",
            "Epoch 21/50\n",
            "\u001b[1m84/84\u001b[0m \u001b[32m━━━━━━━━━━━━━━━━━━━━\u001b[0m\u001b[37m\u001b[0m \u001b[1m6s\u001b[0m 68ms/step - loss: 7.9249e-05 - val_loss: 3.4387e-04\n",
            "Epoch 22/50\n",
            "\u001b[1m84/84\u001b[0m \u001b[32m━━━━━━━━━━━━━━━━━━━━\u001b[0m\u001b[37m\u001b[0m \u001b[1m9s\u001b[0m 58ms/step - loss: 1.0843e-04 - val_loss: 7.0980e-04\n",
            "Epoch 23/50\n",
            "\u001b[1m84/84\u001b[0m \u001b[32m━━━━━━━━━━━━━━━━━━━━\u001b[0m\u001b[37m\u001b[0m \u001b[1m6s\u001b[0m 68ms/step - loss: 1.0454e-04 - val_loss: 8.1904e-04\n",
            "Epoch 24/50\n",
            "\u001b[1m84/84\u001b[0m \u001b[32m━━━━━━━━━━━━━━━━━━━━\u001b[0m\u001b[37m\u001b[0m \u001b[1m10s\u001b[0m 71ms/step - loss: 1.1856e-04 - val_loss: 4.3408e-04\n",
            "Epoch 25/50\n",
            "\u001b[1m84/84\u001b[0m \u001b[32m━━━━━━━━━━━━━━━━━━━━\u001b[0m\u001b[37m\u001b[0m \u001b[1m6s\u001b[0m 68ms/step - loss: 1.1285e-04 - val_loss: 3.1800e-04\n",
            "Epoch 26/50\n",
            "\u001b[1m84/84\u001b[0m \u001b[32m━━━━━━━━━━━━━━━━━━━━\u001b[0m\u001b[37m\u001b[0m \u001b[1m9s\u001b[0m 57ms/step - loss: 1.1166e-04 - val_loss: 6.3270e-04\n",
            "Epoch 27/50\n",
            "\u001b[1m84/84\u001b[0m \u001b[32m━━━━━━━━━━━━━━━━━━━━\u001b[0m\u001b[37m\u001b[0m \u001b[1m6s\u001b[0m 66ms/step - loss: 1.1859e-04 - val_loss: 3.5317e-04\n",
            "Epoch 28/50\n",
            "\u001b[1m84/84\u001b[0m \u001b[32m━━━━━━━━━━━━━━━━━━━━\u001b[0m\u001b[37m\u001b[0m \u001b[1m6s\u001b[0m 68ms/step - loss: 1.0345e-04 - val_loss: 3.4830e-04\n",
            "Epoch 29/50\n",
            "\u001b[1m84/84\u001b[0m \u001b[32m━━━━━━━━━━━━━━━━━━━━\u001b[0m\u001b[37m\u001b[0m \u001b[1m10s\u001b[0m 68ms/step - loss: 8.4094e-05 - val_loss: 2.6138e-04\n",
            "Epoch 30/50\n",
            "\u001b[1m84/84\u001b[0m \u001b[32m━━━━━━━━━━━━━━━━━━━━\u001b[0m\u001b[37m\u001b[0m \u001b[1m9s\u001b[0m 54ms/step - loss: 8.6533e-05 - val_loss: 2.4002e-04\n",
            "Epoch 31/50\n",
            "\u001b[1m84/84\u001b[0m \u001b[32m━━━━━━━━━━━━━━━━━━━━\u001b[0m\u001b[37m\u001b[0m \u001b[1m6s\u001b[0m 68ms/step - loss: 9.3302e-05 - val_loss: 1.7202e-04\n",
            "Epoch 32/50\n",
            "\u001b[1m84/84\u001b[0m \u001b[32m━━━━━━━━━━━━━━━━━━━━\u001b[0m\u001b[37m\u001b[0m \u001b[1m10s\u001b[0m 66ms/step - loss: 1.0567e-04 - val_loss: 2.3188e-04\n",
            "Epoch 33/50\n",
            "\u001b[1m84/84\u001b[0m \u001b[32m━━━━━━━━━━━━━━━━━━━━\u001b[0m\u001b[37m\u001b[0m \u001b[1m5s\u001b[0m 55ms/step - loss: 8.1445e-05 - val_loss: 1.7808e-04\n",
            "Epoch 34/50\n",
            "\u001b[1m84/84\u001b[0m \u001b[32m━━━━━━━━━━━━━━━━━━━━\u001b[0m\u001b[37m\u001b[0m \u001b[1m5s\u001b[0m 54ms/step - loss: 7.8639e-05 - val_loss: 0.0011\n",
            "Epoch 35/50\n",
            "\u001b[1m84/84\u001b[0m \u001b[32m━━━━━━━━━━━━━━━━━━━━\u001b[0m\u001b[37m\u001b[0m \u001b[1m6s\u001b[0m 69ms/step - loss: 8.7955e-05 - val_loss: 5.5997e-04\n",
            "Epoch 36/50\n",
            "\u001b[1m84/84\u001b[0m \u001b[32m━━━━━━━━━━━━━━━━━━━━\u001b[0m\u001b[37m\u001b[0m \u001b[1m9s\u001b[0m 59ms/step - loss: 1.2059e-04 - val_loss: 1.5763e-04\n",
            "Epoch 37/50\n",
            "\u001b[1m84/84\u001b[0m \u001b[32m━━━━━━━━━━━━━━━━━━━━\u001b[0m\u001b[37m\u001b[0m \u001b[1m5s\u001b[0m 63ms/step - loss: 9.2689e-05 - val_loss: 1.6662e-04\n",
            "Epoch 38/50\n",
            "\u001b[1m84/84\u001b[0m \u001b[32m━━━━━━━━━━━━━━━━━━━━\u001b[0m\u001b[37m\u001b[0m \u001b[1m11s\u001b[0m 77ms/step - loss: 1.1040e-04 - val_loss: 1.6135e-04\n",
            "Epoch 39/50\n",
            "\u001b[1m84/84\u001b[0m \u001b[32m━━━━━━━━━━━━━━━━━━━━\u001b[0m\u001b[37m\u001b[0m \u001b[1m8s\u001b[0m 56ms/step - loss: 6.7592e-05 - val_loss: 1.5492e-04\n",
            "Epoch 40/50\n",
            "\u001b[1m84/84\u001b[0m \u001b[32m━━━━━━━━━━━━━━━━━━━━\u001b[0m\u001b[37m\u001b[0m \u001b[1m5s\u001b[0m 60ms/step - loss: 7.9071e-05 - val_loss: 1.6168e-04\n",
            "Epoch 41/50\n",
            "\u001b[1m84/84\u001b[0m \u001b[32m━━━━━━━━━━━━━━━━━━━━\u001b[0m\u001b[37m\u001b[0m \u001b[1m5s\u001b[0m 54ms/step - loss: 8.9828e-05 - val_loss: 2.0476e-04\n",
            "Epoch 42/50\n",
            "\u001b[1m84/84\u001b[0m \u001b[32m━━━━━━━━━━━━━━━━━━━━\u001b[0m\u001b[37m\u001b[0m \u001b[1m6s\u001b[0m 67ms/step - loss: 9.4808e-05 - val_loss: 2.2896e-04\n",
            "Epoch 43/50\n",
            "\u001b[1m84/84\u001b[0m \u001b[32m━━━━━━━━━━━━━━━━━━━━\u001b[0m\u001b[37m\u001b[0m \u001b[1m9s\u001b[0m 54ms/step - loss: 8.3759e-05 - val_loss: 2.1420e-04\n",
            "Epoch 44/50\n",
            "\u001b[1m84/84\u001b[0m \u001b[32m━━━━━━━━━━━━━━━━━━━━\u001b[0m\u001b[37m\u001b[0m \u001b[1m6s\u001b[0m 62ms/step - loss: 6.8743e-05 - val_loss: 9.6380e-04\n",
            "Epoch 45/50\n",
            "\u001b[1m84/84\u001b[0m \u001b[32m━━━━━━━━━━━━━━━━━━━━\u001b[0m\u001b[37m\u001b[0m \u001b[1m4s\u001b[0m 53ms/step - loss: 1.0792e-04 - val_loss: 2.3622e-04\n",
            "Epoch 46/50\n",
            "\u001b[1m84/84\u001b[0m \u001b[32m━━━━━━━━━━━━━━━━━━━━\u001b[0m\u001b[37m\u001b[0m \u001b[1m6s\u001b[0m 68ms/step - loss: 8.9130e-05 - val_loss: 1.4453e-04\n",
            "Epoch 47/50\n",
            "\u001b[1m84/84\u001b[0m \u001b[32m━━━━━━━━━━━━━━━━━━━━\u001b[0m\u001b[37m\u001b[0m \u001b[1m9s\u001b[0m 55ms/step - loss: 8.1940e-05 - val_loss: 0.0015\n",
            "Epoch 48/50\n",
            "\u001b[1m84/84\u001b[0m \u001b[32m━━━━━━━━━━━━━━━━━━━━\u001b[0m\u001b[37m\u001b[0m \u001b[1m6s\u001b[0m 68ms/step - loss: 1.0272e-04 - val_loss: 2.5107e-04\n",
            "Epoch 49/50\n",
            "\u001b[1m84/84\u001b[0m \u001b[32m━━━━━━━━━━━━━━━━━━━━\u001b[0m\u001b[37m\u001b[0m \u001b[1m10s\u001b[0m 68ms/step - loss: 9.3814e-05 - val_loss: 3.5088e-04\n",
            "Epoch 50/50\n",
            "\u001b[1m84/84\u001b[0m \u001b[32m━━━━━━━━━━━━━━━━━━━━\u001b[0m\u001b[37m\u001b[0m \u001b[1m5s\u001b[0m 56ms/step - loss: 8.5617e-05 - val_loss: 1.6138e-04\n"
          ]
        }
      ]
    },
    {
      "cell_type": "markdown",
      "source": [
        "#Step 6: Plot the Training & Validation Loss"
      ],
      "metadata": {
        "id": "CxxqVDg95SzN"
      }
    },
    {
      "cell_type": "code",
      "source": [
        "import matplotlib.pyplot as plt\n",
        "\n",
        "# Plot training & validation loss values\n",
        "plt.figure(figsize=(10, 5))\n",
        "plt.plot(history.history['loss'], label='Training Loss', linewidth=2)\n",
        "plt.plot(history.history['val_loss'], label='Validation Loss', linewidth=2)\n",
        "plt.title('Model Loss Over Epochs')\n",
        "plt.xlabel('Epoch')\n",
        "plt.ylabel('Loss (MSE)')\n",
        "plt.legend()\n",
        "plt.grid(True)\n",
        "plt.show()\n"
      ],
      "metadata": {
        "colab": {
          "base_uri": "https://localhost:8080/",
          "height": 487
        },
        "id": "khuwn8yN4jlk",
        "outputId": "8d4961f4-d6b0-4ca7-8987-d1c155aad973"
      },
      "execution_count": null,
      "outputs": [
        {
          "output_type": "display_data",
          "data": {
            "text/plain": [
              "<Figure size 1000x500 with 1 Axes>"
            ],
            "image/png": "[encoded data removed]"
          },
          "metadata": {}
        }
      ]
    },
    {
      "cell_type": "markdown",
      "source": [
        " Observations:\n",
        "\n",
        "Training loss is low and stable (great!)\n",
        "\n",
        "Validation loss is higher and fluctuates a lot — that suggests:\n",
        "\n",
        "The model might be overfitting slightly (learning training data too well)\n",
        "\n",
        "Or the validation subset is noisy/small, causing spikes\n",
        "\n",
        "This is normal with financial time series data — markets are highly volatile and hard to predict perfectly.\n",
        "\n"
      ],
      "metadata": {
        "id": "080KP0Zg6J0W"
      }
    },
    {
      "cell_type": "markdown",
      "source": [
        "#Step 7: Save the Trained Model"
      ],
      "metadata": {
        "id": "epqlYlPS6WJi"
      }
    },
    {
      "cell_type": "code",
      "source": [
        "# Save the model\n",
        "model.save('stock_price_lstm_model.keras')\n"
      ],
      "metadata": {
        "id": "fKbJYyV85o7A"
      },
      "execution_count": null,
      "outputs": []
    },
    {
      "cell_type": "markdown",
      "source": [
        "#Step 8: Prepare Test Data and Make Predictions"
      ],
      "metadata": {
        "id": "gnbvTjMf6bcW"
      }
    },
    {
      "cell_type": "code",
      "source": [
        "# Get the testing data (remaining 20%)\n",
        "test_data = scaled_data[training_data_len - 60:]  # Include 60 days before test set\n",
        "\n",
        "X_test = []\n",
        "y_test = dataset[training_data_len:]  # Actual closing prices (unscaled)\n",
        "\n",
        "# Create X_test sequences\n",
        "for i in range(60, len(test_data)):\n",
        "    X_test.append(test_data[i-60:i, 0])\n",
        "\n",
        "X_test = np.array(X_test)\n",
        "X_test = np.reshape(X_test, (X_test.shape[0], X_test.shape[1], 1))\n"
      ],
      "metadata": {
        "id": "jCtvRnrZ6Brs"
      },
      "execution_count": null,
      "outputs": []
    },
    {
      "cell_type": "code",
      "source": [
        "# Predict using the model\n",
        "predictions = model.predict(X_test)\n",
        "\n",
        "# Inverse transform to get actual prices (undo MinMaxScaler)\n",
        "predictions = scaler.inverse_transform(predictions)\n"
      ],
      "metadata": {
        "colab": {
          "base_uri": "https://localhost:8080/"
        },
        "id": "avUV1W_Y6gN-",
        "outputId": "9db37d3b-623c-4706-b2eb-6c706a39509e"
      },
      "execution_count": null,
      "outputs": [
        {
          "output_type": "stream",
          "name": "stdout",
          "text": [
            "\u001b[1m24/24\u001b[0m \u001b[32m━━━━━━━━━━━━━━━━━━━━\u001b[0m\u001b[37m\u001b[0m \u001b[1m3s\u001b[0m 49ms/step\n"
          ]
        }
      ]
    },
    {
      "cell_type": "code",
      "source": [
        "# Plot the data\n",
        "plt.figure(figsize=(12, 6))\n",
        "plt.plot(y_test, label='Actual Price', linewidth=2)\n",
        "plt.plot(predictions, label='Predicted Price', linewidth=2)\n",
        "plt.title('Actual vs Predicted Closing Prices')\n",
        "plt.xlabel('Time')\n",
        "plt.ylabel('Price')\n",
        "plt.legend()\n",
        "plt.grid(True)\n",
        "plt.show()\n"
      ],
      "metadata": {
        "colab": {
          "base_uri": "https://localhost:8080/",
          "height": 564
        },
        "id": "5as8zUYi6hxM",
        "outputId": "a5a1d132-ad5f-45ea-8e3d-4ebad4a61546"
      },
      "execution_count": null,
      "outputs": [
        {
          "output_type": "display_data",
          "data": {
            "text/plain": [
              "<Figure size 1200x600 with 1 Axes>"
            ],
            "image/png": "[encoded data removed]"
          },
          "metadata": {}
        }
      ]
    },
    {
      "cell_type": "code",
      "source": [
        "from tensorflow.keras.models import load_model\n",
        "model = load_model('stock_price_lstm_model.keras')\n"
      ],
      "metadata": {
        "id": "SyzTcQu862L1"
      },
      "execution_count": null,
      "outputs": []
    },
    {
      "cell_type": "markdown",
      "source": [
        "#Step 9: Evaluate the Model with Metrics"
      ],
      "metadata": {
        "id": "DqTGCSxL7qu8"
      }
    },
    {
      "cell_type": "code",
      "source": [
        "from sklearn.metrics import mean_squared_error, mean_absolute_error\n",
        "import numpy as np\n",
        "\n",
        "# Calculate RMSE and MAE\n",
        "rmse = np.sqrt(mean_squared_error(y_test, predictions))\n",
        "mae = mean_absolute_error(y_test, predictions)\n",
        "\n",
        "print(\"Root Mean Squared Error (RMSE):\", rmse)\n",
        "print(\"Mean Absolute Error (MAE):\", mae)\n"
      ],
      "metadata": {
        "id": "pR3QpKv06krQ",
        "colab": {
          "base_uri": "https://localhost:8080/"
        },
        "outputId": "c0c939a3-fb0d-4fa8-9c25-eadaf3bebd0f"
      },
      "execution_count": 30,
      "outputs": [
        {
          "output_type": "stream",
          "name": "stdout",
          "text": [
            "Root Mean Squared Error (RMSE): 4.363641102570273\n",
            "Mean Absolute Error (MAE): 3.5131316835517126\n"
          ]
        }
      ]
    },
    {
      "cell_type": "markdown",
      "source": [
        "#Step 10: Predict the Next Day Price from Recent Data"
      ],
      "metadata": {
        "id": "OMoDqjeu76gw"
      }
    },
    {
      "cell_type": "markdown",
      "source": [
        "Take the last 60 closing prices\n",
        "\n",
        "Scale them\n",
        "\n",
        "Reshape to fit the model\n",
        "\n",
        "Predict the next day's price"
      ],
      "metadata": {
        "id": "UW6mIbPc79lU"
      }
    },
    {
      "cell_type": "code",
      "source": [
        "# Use 'data' if 'closing_price' is not defined\n",
        "last_60_days = data[-60:].values  # shape: (60, 1)\n",
        "\n",
        "# Scale it using the previously fitted scaler\n",
        "last_60_days_scaled = scaler.transform(last_60_days)\n",
        "\n",
        "# Reshape to (1, 60, 1)\n",
        "X_input = np.reshape(last_60_days_scaled, (1, 60, 1))\n",
        "\n",
        "# Predict\n",
        "predicted_price_scaled = model.predict(X_input)\n",
        "predicted_price = scaler.inverse_transform(predicted_price_scaled)\n",
        "\n",
        "print(\"📈 Predicted next day closing price: ₹\", round(predicted_price[0][0], 2))\n"
      ],
      "metadata": {
        "colab": {
          "base_uri": "https://localhost:8080/"
        },
        "id": "4VuV61Mf7s6k",
        "outputId": "5d839d7a-31bf-4f81-c3b3-8e53a07ecb70"
      },
      "execution_count": 32,
      "outputs": [
        {
          "output_type": "stream",
          "name": "stdout",
          "text": [
            "\u001b[1m1/1\u001b[0m \u001b[32m━━━━━━━━━━━━━━━━━━━━\u001b[0m\u001b[37m\u001b[0m \u001b[1m0s\u001b[0m 374ms/step\n",
            "📈 Predicted next day closing price: ₹ 251.13\n"
          ]
        }
      ]
    },
    {
      "cell_type": "code",
      "source": [
        "# 🔁 Replace this list with your own 60 past closing prices\n",
        "my_input_prices = [\n",
        "    170.23, 171.42, 169.84, 170.30, 172.02, 173.65, 172.80, 171.95,\n",
        "    170.70, 172.60, 173.10, 172.40, 171.55, 172.35, 173.05, 173.90,\n",
        "    174.45, 175.10, 176.00, 175.85, 176.30, 177.05, 176.95, 177.40,\n",
        "    177.95, 178.10, 178.60, 179.05, 178.80, 179.40, 179.95, 180.10,\n",
        "    180.45, 180.85, 181.10, 181.65, 182.00, 182.55, 183.10, 183.40,\n",
        "    183.95, 184.10, 184.65, 185.00, 185.45, 185.85, 186.10, 186.65,\n",
        "    187.00, 187.45, 187.85, 188.10, 188.65, 189.00, 189.45, 189.85,\n",
        "    190.10, 190.65, 191.00, 191.45\n",
        "]\n"
      ],
      "metadata": {
        "id": "I2KC6c8s7_l6"
      },
      "execution_count": 33,
      "outputs": []
    },
    {
      "cell_type": "code",
      "source": [
        "custom_input = np.array(my_input_prices).reshape(-1, 1)\n",
        "\n",
        "# Scale using the same scaler\n",
        "custom_scaled = scaler.transform(custom_input)\n",
        "\n",
        "# Reshape to (1, 60, 1) for LSTM\n",
        "X_custom = np.reshape(custom_scaled, (1, 60, 1))\n",
        "\n",
        "# Predict\n",
        "custom_pred_scaled = model.predict(X_custom)\n",
        "custom_pred = scaler.inverse_transform(custom_pred_scaled)\n",
        "\n",
        "print(\"📊 Predicted next day price based on your input: ₹\", round(custom_pred[0][0], 2))"
      ],
      "metadata": {
        "colab": {
          "base_uri": "https://localhost:8080/"
        },
        "id": "YZ5optwg8b_S",
        "outputId": "6b93062b-21a4-480d-8ec9-d53237b519d9"
      },
      "execution_count": 34,
      "outputs": [
        {
          "output_type": "stream",
          "name": "stdout",
          "text": [
            "\u001b[1m1/1\u001b[0m \u001b[32m━━━━━━━━━━━━━━━━━━━━\u001b[0m\u001b[37m\u001b[0m \u001b[1m0s\u001b[0m 44ms/step\n",
            "📊 Predicted next day price based on your input: ₹ 189.32\n"
          ]
        }
      ]
    },
    {
      "cell_type": "code",
      "source": [],
      "metadata": {
        "id": "VC3Zix4Z8fh-"
      },
      "execution_count": null,
      "outputs": []
    }
  ]
}